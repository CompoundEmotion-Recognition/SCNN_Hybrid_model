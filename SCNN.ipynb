{
  "cells": [
    {
      "cell_type": "markdown",
      "metadata": {
        "id": "view-in-github",
        "colab_type": "text"
      },
      "source": [
        "<a href=\"https://colab.research.google.com/github/CompoundEmotion-Recognition/SCNN_Hybrid_model/blob/main/SCNN.ipynb\" target=\"_parent\"><img src=\"https://colab.research.google.com/assets/colab-badge.svg\" alt=\"Open In Colab\"/></a>"
      ]
    },
    {
      "cell_type": "code",
      "execution_count": null,
      "metadata": {
        "colab": {
          "base_uri": "https://localhost:8080/"
        },
        "id": "Q7lPhl7nNG6L",
        "outputId": "ed03ee52-1434-4753-84f2-8ffd86a80e6e"
      },
      "outputs": [
        {
          "name": "stdout",
          "output_type": "stream",
          "text": [
            "Drive already mounted at /content/drive; to attempt to forcibly remount, call drive.mount(\"/content/drive\", force_remount=True).\n"
          ]
        }
      ],
      "source": [
        "from google.colab import drive\n",
        "drive.mount('/content/drive')"
      ]
    },
    {
      "cell_type": "markdown",
      "source": [
        "IMPORTING LIBRARIES"
      ],
      "metadata": {
        "id": "IzXRvrnzqebS"
      }
    },
    {
      "cell_type": "code",
      "execution_count": null,
      "metadata": {
        "id": "tt7hwxi7J_4Y"
      },
      "outputs": [],
      "source": [
        "import matplotlib.pyplot as plt\n",
        "import tensorflow as tf\n",
        "import cv2\n",
        "import os\n",
        "import numpy as np\n",
        "from tensorflow.keras.preprocessing.image import ImageDataGenerator\n",
        "from tensorflow.keras.preprocessing import image\n",
        "from tensorflow.keras.optimizers import RMSprop\n",
        "from tensorflow.keras import callbacks,optimizers"
      ]
    },
    {
      "cell_type": "code",
      "execution_count": null,
      "metadata": {
        "colab": {
          "background_save": true
        },
        "id": "iYlukCzYKB67"
      },
      "outputs": [],
      "source": [
        "cv2.imread(\"/content/drive/MyDrive/dataset/train/10/test_146_aligned.jpg\")"
      ]
    },
    {
      "cell_type": "markdown",
      "source": [
        "DEFINING THE TRAIN AND TEST"
      ],
      "metadata": {
        "id": "mgz_AWWLqhK5"
      }
    },
    {
      "cell_type": "code",
      "execution_count": null,
      "metadata": {
        "id": "NWA26dT-KGC-"
      },
      "outputs": [],
      "source": [
        "train = ImageDataGenerator(rescale=1/255)\n",
        "validation = ImageDataGenerator(rescale= 1./255)"
      ]
    },
    {
      "cell_type": "code",
      "execution_count": null,
      "metadata": {
        "colab": {
          "base_uri": "https://localhost:8080/"
        },
        "id": "TqnNZkQfKIDH",
        "outputId": "d60e6063-dbdb-48fc-beeb-07f94a605128"
      },
      "outputs": [
        {
          "name": "stdout",
          "output_type": "stream",
          "text": [
            "Found 3164 images belonging to 11 classes.\n",
            "Found 725 images belonging to 11 classes.\n"
          ]
        }
      ],
      "source": [
        "train_dataset = train.flow_from_directory('/content/drive/MyDrive/dataset/train',\n",
        "                                          target_size=(200,200),\n",
        "                                          batch_size=3,\n",
        "                                          class_mode='categorical')\n",
        "\n",
        "validation_dataset = validation.flow_from_directory('/content/drive/MyDrive/dataset/test',\n",
        "                                          target_size=(200,200),\n",
        "                                          batch_size=3,\n",
        "                                          class_mode='categorical')"
      ]
    },
    {
      "cell_type": "code",
      "execution_count": null,
      "metadata": {
        "colab": {
          "base_uri": "https://localhost:8080/"
        },
        "id": "vdXdFKJPKKLz",
        "outputId": "e702d3c6-c8fe-41e2-d51a-8244db9c3054"
      },
      "outputs": [
        {
          "data": {
            "text/plain": [
              "{'1': 0,\n",
              " '10': 1,\n",
              " '11': 2,\n",
              " '2': 3,\n",
              " '3': 4,\n",
              " '4': 5,\n",
              " '5': 6,\n",
              " '6': 7,\n",
              " '7': 8,\n",
              " '8': 9,\n",
              " '9': 10}"
            ]
          },
          "execution_count": 5,
          "metadata": {},
          "output_type": "execute_result"
        }
      ],
      "source": [
        "train_dataset.class_indices"
      ]
    },
    {
      "cell_type": "code",
      "execution_count": null,
      "metadata": {
        "colab": {
          "base_uri": "https://localhost:8080/"
        },
        "id": "i_M2jXtoKqgk",
        "outputId": "670cd3aa-e7d9-4ec0-ecac-abad846b845c"
      },
      "outputs": [
        {
          "data": {
            "text/plain": [
              "array([ 0,  0,  0, ..., 10, 10, 10], dtype=int32)"
            ]
          },
          "execution_count": 6,
          "metadata": {},
          "output_type": "execute_result"
        }
      ],
      "source": [
        "train_dataset.classes"
      ]
    },
    {
      "cell_type": "markdown",
      "source": [
        "S-CNN MODEL DEFINITION"
      ],
      "metadata": {
        "id": "FEK1lVgTqkwc"
      }
    },
    {
      "cell_type": "code",
      "execution_count": null,
      "metadata": {
        "id": "YsXHfsdWKsX5"
      },
      "outputs": [],
      "source": [
        "\n",
        "\n",
        "model = tf.keras.models.Sequential([tf.keras.layers.Conv2D(16,(3,3),activation  ='relu',input_shape=(200,200,3)),\n",
        "                                    tf.keras.layers.MaxPool2D(2,2),\n",
        "                                    #\n",
        "                                    tf.keras.layers.Conv2D(32,(3,3),activation='relu'),\n",
        "                                    tf.keras.layers.MaxPool2D(2,2),\n",
        "                                    #\n",
        "                                     tf.keras.layers.Conv2D(64,(3,3),activation='relu'),\n",
        "                                     tf.keras.layers.MaxPool2D(2,2),\n",
        "                                    #\n",
        "                                     tf.keras.layers.Flatten(),\n",
        "                                    ##\n",
        "                                    tf.keras.layers.Dense(512,activation='relu'),\n",
        "                                    ##\n",
        "                                    tf.keras.layers.Dense(11,activation='softmax')\n",
        "                                    ])"
      ]
    },
    {
      "cell_type": "markdown",
      "source": [
        "MODEL SUMMARY"
      ],
      "metadata": {
        "id": "QIqFTdTJqq1I"
      }
    },
    {
      "cell_type": "code",
      "execution_count": null,
      "metadata": {
        "colab": {
          "base_uri": "https://localhost:8080/"
        },
        "id": "yDwx5LxKuDSh",
        "outputId": "aa7f4f6a-6f8c-4f13-aa28-084724734881"
      },
      "outputs": [
        {
          "name": "stdout",
          "output_type": "stream",
          "text": [
            "Model: \"sequential_1\"\n",
            "_________________________________________________________________\n",
            " Layer (type)                Output Shape              Param #   \n",
            "=================================================================\n",
            " conv2d_3 (Conv2D)           (None, 198, 198, 16)      448       \n",
            "                                                                 \n",
            " max_pooling2d_3 (MaxPoolin  (None, 99, 99, 16)        0         \n",
            " g2D)                                                            \n",
            "                                                                 \n",
            " conv2d_4 (Conv2D)           (None, 97, 97, 32)        4640      \n",
            "                                                                 \n",
            " max_pooling2d_4 (MaxPoolin  (None, 48, 48, 32)        0         \n",
            " g2D)                                                            \n",
            "                                                                 \n",
            " conv2d_5 (Conv2D)           (None, 46, 46, 64)        18496     \n",
            "                                                                 \n",
            " max_pooling2d_5 (MaxPoolin  (None, 23, 23, 64)        0         \n",
            " g2D)                                                            \n",
            "                                                                 \n",
            " flatten_1 (Flatten)         (None, 33856)             0         \n",
            "                                                                 \n",
            " dense_2 (Dense)             (None, 512)               17334784  \n",
            "                                                                 \n",
            " dense_3 (Dense)             (None, 11)                5643      \n",
            "                                                                 \n",
            "=================================================================\n",
            "Total params: 17364011 (66.24 MB)\n",
            "Trainable params: 17364011 (66.24 MB)\n",
            "Non-trainable params: 0 (0.00 Byte)\n",
            "_________________________________________________________________\n"
          ]
        }
      ],
      "source": [
        "model.summary()"
      ]
    },
    {
      "cell_type": "markdown",
      "source": [
        "DEFINING CONFUSION MATRIX"
      ],
      "metadata": {
        "id": "4DYWt0yEqtJS"
      }
    },
    {
      "cell_type": "code",
      "execution_count": null,
      "metadata": {
        "colab": {
          "base_uri": "https://localhost:8080/"
        },
        "id": "YlJk24QtfmDc",
        "outputId": "3e8d55ef-2004-4256-c7b4-5decab8d7f49"
      },
      "outputs": [
        {
          "name": "stderr",
          "output_type": "stream",
          "text": [
            "<ipython-input-10-e043f80537cf>:3: UserWarning: `Model.predict_generator` is deprecated and will be removed in a future version. Please use `Model.predict`, which supports generators.\n",
            "  Y_pred = model.predict_generator(train_dataset )\n"
          ]
        },
        {
          "name": "stdout",
          "output_type": "stream",
          "text": [
            "Confusion Matrix\n",
            "[[552   0   0   0   0   0   0   0   0   0   0]\n",
            " [668   0   0   0   0   0   0   0   0   0   0]\n",
            " [114   0   0   0   0   0   0   0   0   0   0]\n",
            " [217   0   0   0   0   0   0   0   0   0   0]\n",
            " [106   0   0   0   0   0   0   0   0   0   0]\n",
            " [137   0   0   0   0   0   0   0   0   0   0]\n",
            " [ 69   0   0   0   0   0   0   0   0   0   0]\n",
            " [606   0   0   0   0   0   0   0   0   0   0]\n",
            " [117   0   0   0   0   0   0   0   0   0   0]\n",
            " [440   0   0   0   0   0   0   0   0   0   0]\n",
            " [138   0   0   0   0   0   0   0   0   0   0]]\n",
            "Classification Report\n",
            "              precision    recall  f1-score   support\n",
            "\n",
            "           0       0.17      1.00      0.30       552\n",
            "           1       0.00      0.00      0.00       668\n",
            "           2       0.00      0.00      0.00       114\n",
            "           3       0.00      0.00      0.00       217\n",
            "           4       0.00      0.00      0.00       106\n",
            "           5       0.00      0.00      0.00       137\n",
            "           6       0.00      0.00      0.00        69\n",
            "           7       0.00      0.00      0.00       606\n",
            "           8       0.00      0.00      0.00       117\n",
            "           9       0.00      0.00      0.00       440\n",
            "          10       0.00      0.00      0.00       138\n",
            "\n",
            "    accuracy                           0.17      3164\n",
            "   macro avg       0.02      0.09      0.03      3164\n",
            "weighted avg       0.03      0.17      0.05      3164\n",
            "\n"
          ]
        },
        {
          "name": "stderr",
          "output_type": "stream",
          "text": [
            "/usr/local/lib/python3.10/dist-packages/sklearn/metrics/_classification.py:1344: UndefinedMetricWarning: Precision and F-score are ill-defined and being set to 0.0 in labels with no predicted samples. Use `zero_division` parameter to control this behavior.\n",
            "  _warn_prf(average, modifier, msg_start, len(result))\n",
            "/usr/local/lib/python3.10/dist-packages/sklearn/metrics/_classification.py:1344: UndefinedMetricWarning: Precision and F-score are ill-defined and being set to 0.0 in labels with no predicted samples. Use `zero_division` parameter to control this behavior.\n",
            "  _warn_prf(average, modifier, msg_start, len(result))\n",
            "/usr/local/lib/python3.10/dist-packages/sklearn/metrics/_classification.py:1344: UndefinedMetricWarning: Precision and F-score are ill-defined and being set to 0.0 in labels with no predicted samples. Use `zero_division` parameter to control this behavior.\n",
            "  _warn_prf(average, modifier, msg_start, len(result))\n"
          ]
        }
      ],
      "source": [
        "from sklearn.metrics import classification_report, confusion_matrix\n",
        "\n",
        "Y_pred = model.predict_generator(train_dataset )\n",
        "y_pred = np.argmax(Y_pred, axis=1)\n",
        "print('Confusion Matrix')\n",
        "print(confusion_matrix(train_dataset.classes, y_pred))\n",
        "print('Classification Report')\n",
        "target_names = ['0', '1','2','3','4','5','6','7','8','9','10']\n",
        "print(classification_report(train_dataset.classes, y_pred, target_names=target_names))"
      ]
    },
    {
      "cell_type": "markdown",
      "source": [
        "METRICS VALUE DEFINITION"
      ],
      "metadata": {
        "id": "0f5WuqsKqxoK"
      }
    },
    {
      "cell_type": "code",
      "execution_count": null,
      "metadata": {
        "colab": {
          "base_uri": "https://localhost:8080/"
        },
        "id": "o55a2s9eLS-m",
        "outputId": "55daadc1-db68-41b4-fb4f-23a4a7cee839"
      },
      "outputs": [
        {
          "name": "stderr",
          "output_type": "stream",
          "text": [
            "WARNING:absl:`lr` is deprecated in Keras optimizer, please use `learning_rate` or use the legacy optimizer, e.g.,tf.keras.optimizers.legacy.RMSprop.\n"
          ]
        }
      ],
      "source": [
        "from sklearn.metrics import accuracy_score\n",
        "from sklearn.metrics import make_scorer\n",
        "from sklearn.metrics import f1_score\n",
        "from sklearn.metrics import recall_score\n",
        "from sklearn.metrics import precision_score\n",
        "from sklearn.metrics import roc_auc_score\n",
        "import keras.backend as K\n",
        "\n",
        "def f1_score(y_true, y_pred):\n",
        "    def recall_m(y_true, y_pred):\n",
        "        TP = K.sum(K.round(K.clip(y_true * y_pred, 0, 1)))\n",
        "        Positives = K.sum(K.round(K.clip(y_true, 0, 1)))\n",
        "\n",
        "        recall = TP / (Positives+K.epsilon())\n",
        "        return recall\n",
        "\n",
        "\n",
        "    def precision_m(y_true, y_pred):\n",
        "        TP = K.sum(K.round(K.clip(y_true * y_pred, 0, 1)))\n",
        "        Pred_Positives = K.sum(K.round(K.clip(y_pred, 0, 1)))\n",
        "\n",
        "        precision = TP / (Pred_Positives+K.epsilon())\n",
        "        return precision\n",
        "\n",
        "    precision, recall = precision_m(y_true, y_pred), recall_m(y_true, y_pred)\n",
        "\n",
        "    return 2*((precision*recall)/(precision+recall+K.epsilon()))\n",
        "\n",
        "model.compile(loss= 'categorical_crossentropy',\n",
        "              optimizer = RMSprop(lr=0.001),\n",
        "              metrics=['Precision','accuracy','Recall','AUC',f1_score])"
      ]
    },
    {
      "cell_type": "markdown",
      "source": [
        "MODEL TRAINING FOR 20 EPOCH"
      ],
      "metadata": {
        "id": "-kpWsUyFq02Q"
      }
    },
    {
      "cell_type": "code",
      "execution_count": null,
      "metadata": {
        "colab": {
          "background_save": true,
          "base_uri": "https://localhost:8080/"
        },
        "id": "1-3NgSa3M2cu",
        "outputId": "d4225bb2-3a20-4c1e-c48e-6fc4870dd598"
      },
      "outputs": [
        {
          "name": "stdout",
          "output_type": "stream",
          "text": [
            "Epoch 1/20\n",
            "1055/1055 [==============================] - 935s 886ms/step - loss: 2.0339 - precision: 0.4453 - accuracy: 0.2987 - recall: 0.0373 - auc: 0.7663 - f1_score: 0.0521 - val_loss: 1.8411 - val_precision: 0.5875 - val_accuracy: 0.4014 - val_recall: 0.0648 - val_auc: 0.8094 - val_f1_score: 0.0930\n",
            "Epoch 2/20\n",
            "1055/1055 [==============================] - 601s 570ms/step - loss: 1.6714 - precision: 0.5974 - accuracy: 0.4497 - recall: 0.2016 - auc: 0.8501 - f1_score: 0.2605 - val_loss: 1.8127 - val_precision: 0.5842 - val_accuracy: 0.4497 - val_recall: 0.2248 - val_auc: 0.8235 - val_f1_score: 0.2842\n",
            "Epoch 3/20\n",
            "1055/1055 [==============================] - 596s 565ms/step - loss: 1.4086 - precision: 0.6924 - accuracy: 0.5281 - recall: 0.3606 - auc: 0.8958 - f1_score: 0.4341 - val_loss: 1.8545 - val_precision: 0.5522 - val_accuracy: 0.4607 - val_recall: 0.3572 - val_auc: 0.8509 - val_f1_score: 0.4102\n",
            "Epoch 4/20\n",
            "1055/1055 [==============================] - 606s 574ms/step - loss: 1.1013 - precision: 0.7540 - accuracy: 0.6372 - recall: 0.5221 - auc: 0.9351 - f1_score: 0.5912 - val_loss: 1.9514 - val_precision: 0.5268 - val_accuracy: 0.4345 - val_recall: 0.3393 - val_auc: 0.8430 - val_f1_score: 0.3897\n",
            "Epoch 5/20\n",
            "1055/1055 [==============================] - 598s 567ms/step - loss: 0.7462 - precision: 0.8181 - accuracy: 0.7487 - recall: 0.6881 - auc: 0.9688 - f1_score: 0.7325 - val_loss: 2.5966 - val_precision: 0.5089 - val_accuracy: 0.4648 - val_recall: 0.4317 - val_auc: 0.8257 - val_f1_score: 0.4590\n",
            "Epoch 6/20\n",
            "1055/1055 [==============================] - 593s 562ms/step - loss: 0.4361 - precision: 0.8964 - accuracy: 0.8594 - recall: 0.8369 - auc: 0.9872 - f1_score: 0.8593 - val_loss: 2.9933 - val_precision: 0.4707 - val_accuracy: 0.4400 - val_recall: 0.3876 - val_auc: 0.8036 - val_f1_score: 0.4152\n",
            "Epoch 7/20\n",
            "1055/1055 [==============================] - 595s 564ms/step - loss: 0.2423 - precision: 0.9325 - accuracy: 0.9210 - recall: 0.9131 - auc: 0.9943 - f1_score: 0.9206 - val_loss: 4.9374 - val_precision: 0.4505 - val_accuracy: 0.4303 - val_recall: 0.4207 - val_auc: 0.7772 - val_f1_score: 0.4343\n",
            "Epoch 8/20\n",
            "1055/1055 [==============================] - 589s 558ms/step - loss: 0.1693 - precision: 0.9582 - accuracy: 0.9523 - recall: 0.9491 - auc: 0.9965 - f1_score: 0.9526 - val_loss: 5.1158 - val_precision: 0.4719 - val_accuracy: 0.4607 - val_recall: 0.4510 - val_auc: 0.7834 - val_f1_score: 0.4595\n",
            "Epoch 9/20\n",
            "1055/1055 [==============================] - 600s 568ms/step - loss: 0.1133 - precision: 0.9682 - accuracy: 0.9659 - recall: 0.9633 - auc: 0.9974 - f1_score: 0.9652 - val_loss: 6.9841 - val_precision: 0.4274 - val_accuracy: 0.4166 - val_recall: 0.4138 - val_auc: 0.7401 - val_f1_score: 0.4171\n",
            "Epoch 10/20\n",
            "1055/1055 [==============================] - 608s 576ms/step - loss: 0.0853 - precision: 0.9823 - accuracy: 0.9817 - recall: 0.9804 - auc: 0.9976 - f1_score: 0.9812 - val_loss: 7.8484 - val_precision: 0.4372 - val_accuracy: 0.4303 - val_recall: 0.4276 - val_auc: 0.7492 - val_f1_score: 0.4320\n",
            "Epoch 11/20\n",
            "1055/1055 [==============================] - 606s 575ms/step - loss: 0.0692 - precision: 0.9861 - accuracy: 0.9855 - recall: 0.9848 - auc: 0.9979 - f1_score: 0.9853 - val_loss: 8.5330 - val_precision: 0.4506 - val_accuracy: 0.4469 - val_recall: 0.4469 - val_auc: 0.7506 - val_f1_score: 0.4483\n",
            "Epoch 12/20\n",
            "1055/1055 [==============================] - 613s 581ms/step - loss: 0.0554 - precision: 0.9911 - accuracy: 0.9908 - recall: 0.9899 - auc: 0.9986 - f1_score: 0.9904 - val_loss: 12.2752 - val_precision: 0.4506 - val_accuracy: 0.4469 - val_recall: 0.4469 - val_auc: 0.7432 - val_f1_score: 0.4472\n",
            "Epoch 13/20\n",
            "1055/1055 [==============================] - 621s 589ms/step - loss: 0.0614 - precision: 0.9861 - accuracy: 0.9861 - recall: 0.9861 - auc: 0.9986 - f1_score: 0.9861 - val_loss: 11.2591 - val_precision: 0.4665 - val_accuracy: 0.4607 - val_recall: 0.4607 - val_auc: 0.7485 - val_f1_score: 0.4635\n",
            "Epoch 14/20\n",
            "1055/1055 [==============================] - 618s 585ms/step - loss: 0.0724 - precision: 0.9855 - accuracy: 0.9851 - recall: 0.9851 - auc: 0.9970 - f1_score: 0.9853 - val_loss: 13.0157 - val_precision: 0.4632 - val_accuracy: 0.4607 - val_recall: 0.4607 - val_auc: 0.7432 - val_f1_score: 0.4620\n",
            "Epoch 15/20\n",
            "1055/1055 [==============================] - 607s 575ms/step - loss: 0.0526 - precision: 0.9937 - accuracy: 0.9937 - recall: 0.9937 - auc: 0.9984 - f1_score: 0.9937 - val_loss: 14.3714 - val_precision: 0.4466 - val_accuracy: 0.4455 - val_recall: 0.4441 - val_auc: 0.7351 - val_f1_score: 0.4453\n",
            "Epoch 16/20\n",
            "1055/1055 [==============================] - 610s 578ms/step - loss: 0.0601 - precision: 0.9896 - accuracy: 0.9896 - recall: 0.9893 - auc: 0.9984 - f1_score: 0.9894 - val_loss: 14.0130 - val_precision: 0.4019 - val_accuracy: 0.3986 - val_recall: 0.3986 - val_auc: 0.7083 - val_f1_score: 0.3999\n",
            "Epoch 17/20\n",
            "1055/1055 [==============================] - 618s 586ms/step - loss: 0.1260 - precision: 0.9836 - accuracy: 0.9829 - recall: 0.9829 - auc: 0.9961 - f1_score: 0.9831 - val_loss: 13.5859 - val_precision: 0.4365 - val_accuracy: 0.4317 - val_recall: 0.4317 - val_auc: 0.7228 - val_f1_score: 0.4348\n",
            "Epoch 18/20\n",
            "1055/1055 [==============================] - 623s 590ms/step - loss: 0.1038 - precision: 0.9817 - accuracy: 0.9817 - recall: 0.9817 - auc: 0.9962 - f1_score: 0.9817 - val_loss: 15.9774 - val_precision: 0.4640 - val_accuracy: 0.4634 - val_recall: 0.4621 - val_auc: 0.7347 - val_f1_score: 0.4614\n",
            "Epoch 19/20\n",
            "1055/1055 [==============================] - 618s 585ms/step - loss: 0.0520 - precision: 0.9924 - accuracy: 0.9921 - recall: 0.9918 - auc: 0.9988 - f1_score: 0.9920 - val_loss: 15.4662 - val_precision: 0.4431 - val_accuracy: 0.4414 - val_recall: 0.4400 - val_auc: 0.7413 - val_f1_score: 0.4408\n",
            "Epoch 20/20\n",
            "1055/1055 [==============================] - 611s 579ms/step - loss: 0.1507 - precision: 0.9867 - accuracy: 0.9867 - recall: 0.9867 - auc: 0.9955 - f1_score: 0.9867 - val_loss: 18.7708 - val_precision: 0.4398 - val_accuracy: 0.4386 - val_recall: 0.4386 - val_auc: 0.7151 - val_f1_score: 0.4393\n"
          ]
        }
      ],
      "source": [
        "model_fit = model.fit(train_dataset,\n",
        "                      validation_data = validation_dataset,\n",
        "                      epochs=20)\n",
        "\n"
      ]
    },
    {
      "cell_type": "code",
      "execution_count": null,
      "metadata": {
        "id": "LQjWN7P-N-FV"
      },
      "outputs": [],
      "source": [
        "model.save('mymodel.h5')"
      ]
    },
    {
      "cell_type": "markdown",
      "source": [
        "METRIC VALUE PLOT"
      ],
      "metadata": {
        "id": "qwy58oeVq5RG"
      }
    },
    {
      "cell_type": "code",
      "execution_count": null,
      "metadata": {
        "colab": {
          "base_uri": "https://localhost:8080/",
          "height": 533
        },
        "id": "Hs_grw9qOAte",
        "outputId": "b49ebdc1-6da6-4806-e6f1-55594f1796df"
      },
      "outputs": [
        {
          "data": {
            "image/png": "[encoded data removed]",
            "text/plain": [
              "<Figure size 432x288 with 1 Axes>"
            ]
          },
          "metadata": {},
          "output_type": "display_data"
        },
        {
          "data": {
            "image/png": "[encoded data removed]",
            "text/plain": [
              "<Figure size 432x288 with 1 Axes>"
            ]
          },
          "metadata": {},
          "output_type": "display_data"
        },
        {
          "data": {
            "text/plain": [
              "<Figure size 432x288 with 0 Axes>"
            ]
          },
          "metadata": {},
          "output_type": "display_data"
        }
      ],
      "source": [
        "plt.plot(model_fit.history['loss'], label='train loss')\n",
        "plt.plot(model_fit.history['val_loss'], label='val loss')\n",
        "plt.legend()\n",
        "plt.show()\n",
        "plt.savefig('LossVal_loss')\n",
        "\n",
        "# plot the accuracy\n",
        "plt.plot(model_fit.history['accuracy'], label='train acc')\n",
        "plt.plot(model_fit.history['val_accuracy'], label='val acc')\n",
        "plt.legend()\n",
        "plt.show()\n",
        "plt.savefig('AccVal_acc')\n",
        "\n",
        "#plot the precision\n",
        "plt.plot(model_fit.history['Precision'], label='train prec')\n",
        "plt.plot(model_fit.history['val_precision'], label='val prec')\n",
        "plt.legend()\n",
        "plt.show()\n",
        "plt.savefig('AccVal_prec')\n",
        "\n",
        "#plot recall\n",
        "plt.plot(model_fit.history['Recall'], label='train recall')\n",
        "plt.plot(model_fit.history['val_Recall'], label='val recall')\n",
        "plt.legend()\n",
        "plt.show()\n",
        "plt.savefig('AccVal_rec')\n",
        "\n",
        "#plot f1_score\n",
        "plt.plot(model_fit.history['f1_score'], label='train f1')\n",
        "plt.plot(model_fit.history['val_f1_score'], label='val f1')\n",
        "plt.legend()\n",
        "plt.show()\n",
        "plt.savefig('AccVal_f1')"
      ]
    },
    {
      "cell_type": "code",
      "execution_count": null,
      "metadata": {
        "colab": {
          "base_uri": "https://localhost:8080/",
          "height": 304
        },
        "id": "V4-cfZOtOfBw",
        "outputId": "98df4692-c51e-447d-b600-1c829a7cf205"
      },
      "outputs": [
        {
          "name": "stdout",
          "output_type": "stream",
          "text": [
            "val [[0. 0. 1. 0. 0. 0. 0. 0. 0. 0. 0.]]\n",
            "11\n"
          ]
        },
        {
          "data": {
            "image/png": "[encoded data removed]",
            "text/plain": [
              "<Figure size 432x288 with 1 Axes>"
            ]
          },
          "metadata": {},
          "output_type": "display_data"
        }
      ],
      "source": [
        "img=image.load_img('/content/drive/MyDrive/dataset/test/11/test_670_aligned.jpg',target_size=(200,200))\n",
        "plt.imshow(img)\n",
        "X=image.img_to_array(img)\n",
        "X=np.expand_dims(X,axis=0)\n",
        "images=np.vstack([X])\n",
        "val=model.predict(images)\n",
        "print(\"val %s\"%val)\n",
        "rach=val.argmax()\n",
        "if rach==0:\n",
        "  print(\"1\")\n",
        "if rach==1:\n",
        "  print(\"10\")\n",
        "if rach==2:\n",
        "  print(\"11\")\n",
        "if rach==3:\n",
        "  print(\"2\")\n",
        "if rach==4:\n",
        "  print(\"3\")\n",
        "if rach==5:\n",
        "  print(\"4\")\n",
        "if rach==6:\n",
        "  print(\"5\")\n",
        "if rach==7:\n",
        "  print(\"6\")\n",
        "if rach==8:\n",
        "  print(\"7\")\n",
        "if rach==9:\n",
        "  print(\"8\")\n",
        "if rach==10:\n",
        "  print(\"9\")\n",
        "\n"
      ]
    },
    {
      "cell_type": "code",
      "execution_count": null,
      "metadata": {
        "id": "ZglqfM5AOhql"
      },
      "outputs": [],
      "source": [
        "from IPython.display import display, Javascript\n",
        "from google.colab.output import eval_js\n",
        "from base64 import b64decode\n",
        "\n",
        "def take_photo(filename='photo.jpg', quality=0.8):\n",
        "  js = Javascript('''\n",
        "    async function takePhoto(quality) {\n",
        "      const div = document.createElement('div');\n",
        "      const capture = document.createElement('button');\n",
        "      capture.textContent = 'Capture';\n",
        "      div.appendChild(capture);\n",
        "\n",
        "      const video = document.createElement('video');\n",
        "      video.style.display = 'block';\n",
        "      const stream = await navigator.mediaDevices.getUserMedia({video: true});\n",
        "\n",
        "      document.body.appendChild(div);\n",
        "      div.appendChild(video);\n",
        "      video.srcObject = stream;\n",
        "      await video.play();\n",
        "\n",
        "      // Resize the output to fit the video element.\n",
        "      google.colab.output.setIframeHeight(document.documentElement.scrollHeight, true);\n",
        "\n",
        "      // Wait for Capture to be clicked.\n",
        "      await new Promise((resolve) => capture.onclick = resolve);\n",
        "\n",
        "      const canvas = document.createElement('canvas');\n",
        "      canvas.width = video.videoWidth;\n",
        "      canvas.height = video.videoHeight;\n",
        "      canvas.getContext('2d').drawImage(video, 0, 0);\n",
        "      stream.getVideoTracks()[0].stop();\n",
        "      div.remove();\n",
        "      return canvas.toDataURL('image/jpeg', quality);\n",
        "    }\n",
        "    ''')\n",
        "  display(js)\n",
        "  data = eval_js('takePhoto({})'.format(quality))\n",
        "  binary = b64decode(data.split(',')[1])\n",
        "  with open(filename, 'wb') as f:\n",
        "    f.write(binary)\n",
        "  return filename"
      ]
    },
    {
      "cell_type": "code",
      "execution_count": null,
      "metadata": {
        "id": "2_NUcA4gOp-l"
      },
      "outputs": [],
      "source": [
        "from IPython.display import Image\n",
        "try:\n",
        "  filename = take_photo()\n",
        "  print('Saved to {}'.format(filename))\n",
        "\n",
        "  # Show the image which was just taken.\n",
        "  display(Image(filename))\n",
        "except Exception as err:\n",
        "  # Errors will be thrown if the user does not have a webcam or if they do not\n",
        "  # grant the page permission to access it.\n",
        "  print(str(err))"
      ]
    },
    {
      "cell_type": "code",
      "execution_count": null,
      "metadata": {
        "id": "CcXnMzl_Ov9n"
      },
      "outputs": [],
      "source": [
        "img=image.load_img('photo.jpg',target_size=(200,200))\n",
        "plt.imshow(img)\n",
        "X=image.img_to_array(img)\n",
        "X=np.expand_dims(X,axis=0)\n",
        "images=np.vstack([X])\n",
        "val=model.predict(images)\n",
        "\n",
        "rach=val.argmax()\n",
        "if rach==0:\n",
        "  print(\"1\")\n",
        "if rach==1:\n",
        "  print(\"10\")\n",
        "if rach==2:\n",
        "  print(\"11\")\n",
        "if rach==3:\n",
        "  print(\"2\")\n",
        "if rach==4:\n",
        "  print(\"3\")\n",
        "if rach==5:\n",
        "  print(\"4\")\n",
        "if rach==6:\n",
        "  print(\"5\")\n",
        "if rach==7:\n",
        "  print(\"6\")\n",
        "if rach==8:\n",
        "  print(\"7\")\n",
        "if rach==9:\n",
        "  print(\"8\")\n",
        "if rach==10:\n",
        "  print(\"9\")\n"
      ]
    }
  ],
  "metadata": {
    "colab": {
      "provenance": [],
      "mount_file_id": "1NGFv01hAFOpcMdGTGB0d68gGhByKIQlj",
      "authorship_tag": "ABX9TyMJQDs0nfjpd4D7N+MHxLg3",
      "include_colab_link": true
    },
    "kernelspec": {
      "display_name": "Python 3",
      "name": "python3"
    },
    "language_info": {
      "name": "python"
    }
  },
  "nbformat": 4,
  "nbformat_minor": 0
}